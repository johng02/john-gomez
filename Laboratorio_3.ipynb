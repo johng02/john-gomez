{
  "nbformat": 4,
  "nbformat_minor": 0,
  "metadata": {
    "colab": {
      "provenance": [],
      "collapsed_sections": [
        "aiVyYM0UZ9Cg"
      ],
      "toc_visible": true,
      "include_colab_link": true
    },
    "kernelspec": {
      "name": "python3",
      "display_name": "Python 3"
    },
    "language_info": {
      "name": "python"
    }
  },
  "cells": [
    {
      "cell_type": "markdown",
      "metadata": {
        "id": "view-in-github",
        "colab_type": "text"
      },
      "source": [
        "<a href=\"https://colab.research.google.com/github/johng02/john-gomez/blob/Gomez/Laboratorio_3.ipynb\" target=\"_parent\"><img src=\"https://colab.research.google.com/assets/colab-badge.svg\" alt=\"Open In Colab\"/></a>"
      ]
    },
    {
      "cell_type": "markdown",
      "source": [
        "# **Laboratorio 3: Librerías numéricas y de gráficos, arreglos y matrices y formas cuadráticas**\n",
        "**Facultad de ingeniería, departamento de Ingeniería Biomédica, Universidad de los Andes**\\\n",
        "**IBIO-2440 Programación científica**"
      ],
      "metadata": {
        "id": "aiVyYM0UZ9Cg"
      }
    },
    {
      "cell_type": "markdown",
      "source": [
        "**Nombres de los integrantes**\n",
        "\n",
        "\n",
        "1.   Daniel Alonso\n",
        "2.   John Gomez\n",
        "\n",
        "\n",
        "**Número del grupo**\n",
        "\n",
        "1\n"
      ],
      "metadata": {
        "id": "aTJOo3lnar5X"
      }
    },
    {
      "cell_type": "markdown",
      "source": [
        "Este laboratorio consta de dos partes, la primera asociada al uso de las librerias numéricas y de gráficos (Numpy y Matplotlib), con aplicaciones como las opreaciones con arreglos y matrices y el cálculo de normas de un vector. Luego, está la parte sobre formas cuadráticas, donde se incluyen ahora gráficos tridimensionales, cálculo de valores y vectores propios einterpretaciones geométricas. Se recomienda leer la siguiente información:\n",
        "\n",
        "https://numpy.org/doc/stable/user/basics.html\n",
        "\n",
        "https://matplotlib.org/stable/plot_types/index.html"
      ],
      "metadata": {
        "id": "OambcLreVN_P"
      }
    },
    {
      "cell_type": "markdown",
      "source": [
        "# **Módulos y librerías**\n",
        "\n",
        "En el siguiente laboratorio se busca recordar algunas funciones de *Numpy* para realizar diferentes operaciones matemáticas con arreglos, también se busca implementar diferentes tipos de gráficas usando la librería *Matplotlib*. Se explica cómo hacer un plot básico, subplots, barras e histogramas."
      ],
      "metadata": {
        "id": "9MZHCvebU8e9"
      }
    },
    {
      "cell_type": "markdown",
      "source": [
        "Importe las librerías Numpy y Matplotlib"
      ],
      "metadata": {
        "id": "1tcfcZzkun_W"
      }
    },
    {
      "cell_type": "code",
      "execution_count": null,
      "metadata": {
        "id": "X_0X1_Mdp5cS"
      },
      "outputs": [],
      "source": [
        "import numpy as np\n",
        "import matplotlib as mp\n"
      ]
    },
    {
      "cell_type": "markdown",
      "source": [
        "1.\tEscriba una función que multiplique todos los números de un arreglo. Luego pruebela con ejemplo."
      ],
      "metadata": {
        "id": "BVimcKkFtKJo"
      }
    },
    {
      "cell_type": "code",
      "source": [
        "def multiplicar_matriz(lst:list):\n",
        "  a=1\n",
        "  for vec in lst:\n",
        "    for num in vec:\n",
        "      a=a*num\n",
        "  return a\n",
        "\n",
        "lst=[[2,1,1],[1,1,1],[1,1,3]]\n",
        "print(multiplicar_matriz(lst))\n"
      ],
      "metadata": {
        "id": "vmN6MzXztPwn",
        "colab": {
          "base_uri": "https://localhost:8080/"
        },
        "outputId": "8c0b18e5-1f3e-4363-dd95-a770f68d2402"
      },
      "execution_count": null,
      "outputs": [
        {
          "output_type": "stream",
          "name": "stdout",
          "text": [
            "6\n"
          ]
        }
      ]
    },
    {
      "cell_type": "markdown",
      "source": [
        "2. Escriba una función que calcule el factorial de un número entero positivo. Luego pruebela con ejemplo.\n"
      ],
      "metadata": {
        "id": "kOt40t5atKOZ"
      }
    },
    {
      "cell_type": "code",
      "source": [
        "def factorial(n):\n",
        "  if n<0:\n",
        "    print(\"no es posible realizar esta funcion para numeros negativos\")\n",
        "  elif n==0:\n",
        "    return(1)\n",
        "  else:\n",
        "    facto=1\n",
        "    while(n>1):\n",
        "      facto*=n\n",
        "      n-=1\n",
        "    return facto\n",
        "x=factorial(5)\n",
        "print(x)\n",
        "\n",
        "\n",
        "\n",
        "\n",
        "\n"
      ],
      "metadata": {
        "id": "25310HzWtpJ5",
        "colab": {
          "base_uri": "https://localhost:8080/"
        },
        "outputId": "cc945e95-d37f-4fad-ed71-3a49d48506e8"
      },
      "execution_count": null,
      "outputs": [
        {
          "output_type": "stream",
          "name": "stdout",
          "text": [
            "120\n"
          ]
        }
      ]
    },
    {
      "cell_type": "markdown",
      "source": [
        "3. Escriba una función que indique si un número entero positivo pertenece a la serie de Fibonacci. Luego pruebela con ejemplo."
      ],
      "metadata": {
        "id": "2KliC7outgd1"
      }
    },
    {
      "cell_type": "code",
      "source": [
        "n=int(input(\"ingrese un numero positivo\"))\n",
        "def is_fibonacci(num):\n",
        "    l=[0,1]\n",
        "    while l[-1]<num:\n",
        "      l.append(l[-1]+l[-2])\n",
        "    return l\n",
        "if n<0:\n",
        "  print(\"tiene que ser positivo DIOS MIOOOO\")\n",
        "elif n==0:\n",
        "  print(n,\"pertenece a la serie fibonacci\")\n",
        "elif n==1:\n",
        "  print(n,\"pertenece a la serie fibonacci\")\n",
        "else:\n",
        "  lista=is_fibonacci(n)\n",
        "  if n in lista:\n",
        "    print(\"pertenece a la serie fibonacci\")\n",
        "  else:\n",
        "    print(\"no pertence a la serie fibonacci\")\n",
        "\n",
        "\n"
      ],
      "metadata": {
        "id": "ghVToDpPtrlD",
        "colab": {
          "base_uri": "https://localhost:8080/"
        },
        "outputId": "e23b39b3-b347-4451-c60a-a827d840c6c2"
      },
      "execution_count": 5,
      "outputs": [
        {
          "output_type": "stream",
          "name": "stdout",
          "text": [
            "ingrese un numero positivo4\n",
            "no pertence a la serie fibonacci\n"
          ]
        }
      ]
    },
    {
      "cell_type": "markdown",
      "source": [
        "4. Usando las funciones de las librerías numpy y matplotlib para Python obtenga 1000 valores aleatorios con distribución uniforme y 1000 valores con una distribución normal. Súmelos y grafique el correspondiente histograma para 10, 20, 30 y 50 particiones (bins). (Utilice subplots e interprete los resultados). *Pista: Para generar los valores use el módulo random de la librería numpy.*"
      ],
      "metadata": {
        "id": "ox5sancEtzym"
      }
    },
    {
      "cell_type": "code",
      "source": [
        "import numpy as np\n",
        "import matplotlib.pyplot as plt\n",
        "\n",
        "#Genera 1000 valores aleatorios con distribución uniforme\n",
        "valores_uniforme = np.random.uniform(0, 1, 1000)\n",
        "\n",
        "#Generar 1000 valores aleatorios con distribución normal\n",
        "valores_normales = np.random.normal(0, 1, 1000)\n",
        "\n",
        "# suma de valores aleatorios\n",
        "sum_values = valores_uniforme + valores_normales\n",
        "\n",
        "# histogramas con diferentes valores de bins\n",
        "bins_values = [10, 20, 30, 50]\n",
        "\n",
        "fig, axs = plt.subplots(2, 2, figsize=(12, 8))\n",
        "axs = axs.ravel()\n",
        "\n",
        "for i, bins in enumerate(bins_values):\n",
        "    axs[i].hist(sum_values, bins=bins, color='purple', edgecolor='black')\n",
        "    axs[i].set_title(f'Histograma con {bins} bins')\n",
        "\n",
        "plt.tight_layout()\n",
        "plt.show()\n"
      ],
      "metadata": {
        "id": "hI5f-6vqt1GB",
        "colab": {
          "base_uri": "https://localhost:8080/",
          "height": 585
        },
        "outputId": "1964709e-6730-4593-fa2d-69bc8cbae5b1"
      },
      "execution_count": 7,
      "outputs": [
        {
          "output_type": "display_data",
          "data": {
            "text/plain": [
              "<Figure size 864x576 with 4 Axes>"
            ],
            "image/png": "[encoded data removed]"
          },
          "metadata": {
            "needs_background": "light"
          }
        }
      ]
    },
    {
      "cell_type": "markdown",
      "source": [
        "5. Para un sistema masa-resorte que describe un Movimiento Armónico Simple (m.a.s) como el de la siguiente figura:\n",
        "\n",
        "![Picture1.jpg](data:image/jpeg;base64,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)\n",
        "\n",
        "\n",
        "Zemansky, S. (2013). Movimiento Periódico. In Pearson (Ed.), Física Universitaria (12th \n",
        "ed., pp. 65–71). Pearson. https://doi.org/10.1057/9781137311955_5\n",
        "\n",
        "Grafique el desplazamiento, velocidad y aceleración bajo los parámetros: \n",
        "\n",
        "T = 4s (periodo) \n",
        "t = 8s (duración) \n",
        "A = 5m (amplitud) \n",
        "\n",
        "Recuerde que el desplazamiento está dado por la ecuación:\n",
        "\n",
        "𝑥 = 𝐴  𝑐𝑜𝑠(ω𝑡 + ϕ)\n",
        "\n",
        "Donde x es el desplazamiento en una dimensión, ω es la velocidad angular (rad/seg) y ϕ es la fase inicial. \n",
        "\n",
        "*Pista: Cree un vector de tiempo que vaya desde 0 hasta el tiempo final(t).*"
      ],
      "metadata": {
        "id": "d2jtKWq_t-Rt"
      }
    },
    {
      "cell_type": "code",
      "source": [
        "import matplotlib.pyplot as plt\n",
        "import numpy as np\n",
        "#determinal la señal\n",
        "#para 1hz\n",
        "#determino paramatros como frecuencia, periodo y amplitud\n",
        "fo=1.5707963267948966\n",
        "to=1/fo\n",
        "a=5\n",
        "theta=0\n",
        "#periodo, frecuencia con el muestro\n",
        "fs=100*fo\n",
        "ts=1/fs\n",
        "nc=1.5707963267948966\n",
        "t=np.arange(0,nc*to,ts)\n",
        "x=a*np.sin(2*np.pi*fo*t+theta)\n",
        "\n",
        "print(x)"
      ],
      "metadata": {
        "id": "K8xDIeE_uYtL",
        "colab": {
          "base_uri": "https://localhost:8080/"
        },
        "outputId": "5770d214-b591-4809-b22a-5abaa523ebfa"
      },
      "execution_count": 10,
      "outputs": [
        {
          "output_type": "stream",
          "name": "stdout",
          "text": [
            "[ 0.00000000e+00  3.13952598e-01  6.26666168e-01  9.36906573e-01\n",
            "  1.24344944e+00  1.54508497e+00  1.84062276e+00  2.12889646e+00\n",
            "  2.40876837e+00  2.67913397e+00  2.93892626e+00  3.18711995e+00\n",
            "  3.42273553e+00  3.64484314e+00  3.85256621e+00  4.04508497e+00\n",
            "  4.22163963e+00  4.38153340e+00  4.52413526e+00  4.64888243e+00\n",
            "  4.75528258e+00  4.84291581e+00  4.91143625e+00  4.96057351e+00\n",
            "  4.99013364e+00  5.00000000e+00  4.99013364e+00  4.96057351e+00\n",
            "  4.91143625e+00  4.84291581e+00  4.75528258e+00  4.64888243e+00\n",
            "  4.52413526e+00  4.38153340e+00  4.22163963e+00  4.04508497e+00\n",
            "  3.85256621e+00  3.64484314e+00  3.42273553e+00  3.18711995e+00\n",
            "  2.93892626e+00  2.67913397e+00  2.40876837e+00  2.12889646e+00\n",
            "  1.84062276e+00  1.54508497e+00  1.24344944e+00  9.36906573e-01\n",
            "  6.26666168e-01  3.13952598e-01  6.12323400e-16 -3.13952598e-01\n",
            " -6.26666168e-01 -9.36906573e-01 -1.24344944e+00 -1.54508497e+00\n",
            " -1.84062276e+00 -2.12889646e+00 -2.40876837e+00 -2.67913397e+00\n",
            " -2.93892626e+00 -3.18711995e+00 -3.42273553e+00 -3.64484314e+00\n",
            " -3.85256621e+00 -4.04508497e+00 -4.22163963e+00 -4.38153340e+00\n",
            " -4.52413526e+00 -4.64888243e+00 -4.75528258e+00 -4.84291581e+00\n",
            " -4.91143625e+00 -4.96057351e+00 -4.99013364e+00 -5.00000000e+00\n",
            " -4.99013364e+00 -4.96057351e+00 -4.91143625e+00 -4.84291581e+00\n",
            " -4.75528258e+00 -4.64888243e+00 -4.52413526e+00 -4.38153340e+00\n",
            " -4.22163963e+00 -4.04508497e+00 -3.85256621e+00 -3.64484314e+00\n",
            " -3.42273553e+00 -3.18711995e+00 -2.93892626e+00 -2.67913397e+00\n",
            " -2.40876837e+00 -2.12889646e+00 -1.84062276e+00 -1.54508497e+00\n",
            " -1.24344944e+00 -9.36906573e-01 -6.26666168e-01 -3.13952598e-01\n",
            " -1.22464680e-15  3.13952598e-01  6.26666168e-01  9.36906573e-01\n",
            "  1.24344944e+00  1.54508497e+00  1.84062276e+00  2.12889646e+00\n",
            "  2.40876837e+00  2.67913397e+00  2.93892626e+00  3.18711995e+00\n",
            "  3.42273553e+00  3.64484314e+00  3.85256621e+00  4.04508497e+00\n",
            "  4.22163963e+00  4.38153340e+00  4.52413526e+00  4.64888243e+00\n",
            "  4.75528258e+00  4.84291581e+00  4.91143625e+00  4.96057351e+00\n",
            "  4.99013364e+00  5.00000000e+00  4.99013364e+00  4.96057351e+00\n",
            "  4.91143625e+00  4.84291581e+00  4.75528258e+00  4.64888243e+00\n",
            "  4.52413526e+00  4.38153340e+00  4.22163963e+00  4.04508497e+00\n",
            "  3.85256621e+00  3.64484314e+00  3.42273553e+00  3.18711995e+00\n",
            "  2.93892626e+00  2.67913397e+00  2.40876837e+00  2.12889646e+00\n",
            "  1.84062276e+00  1.54508497e+00  1.24344944e+00  9.36906573e-01\n",
            "  6.26666168e-01  3.13952598e-01  1.83697020e-15 -3.13952598e-01\n",
            " -6.26666168e-01 -9.36906573e-01 -1.24344944e+00 -1.54508497e+00\n",
            " -1.84062276e+00 -2.12889646e+00]\n"
          ]
        }
      ]
    },
    {
      "cell_type": "markdown",
      "source": [
        "6. Sean A, B y C las siguientes matrices:\n",
        "\n",
        "\n",
        "\n",
        "\\begin{align}\n",
        "A = \\begin{pmatrix}\n",
        "0.1 & 2 \\\\\n",
        "2 & 0.1\n",
        "\\end{pmatrix}\n",
        "\\end{align}\n",
        "\\\n",
        "\\begin{align}\n",
        "B = \\begin{pmatrix}\n",
        "1 & 2 & 3\\\\\n",
        "4 & 5 & 4\n",
        "\\end{pmatrix}\n",
        "\\end{align}   \n",
        "\\begin{align}\n",
        "C = \\begin{pmatrix}\n",
        "5/3 & 2/3 \\\\\n",
        "2/3 & 5/3\n",
        "\\end{pmatrix}\n",
        "\\end{align} \n",
        ">Realice las siguientes operaciones matriciales, donde $∗$ es el producto punto entre dos matrices.\n",
        "\n",
        "\n",
        "\\begin{align}\n",
        "1. \\ A * B\\\\\n",
        "2. \\ A^2 ∗ B\\\\\n",
        "3. \\ C^3 * B\\\\\n",
        "4. \\ C^4 * B^3\\\\\n",
        "\\end{align} \n",
        "\n",
        "\n",
        "\n"
      ],
      "metadata": {
        "id": "Y9I_S_8Buej2"
      }
    },
    {
      "cell_type": "code",
      "source": [
        "import numpy as np\n",
        "A=np.array([[0.1 , 2],\n",
        "            [2,  0.1]])\n",
        "B=np.array([[1,2,3],\n",
        "            [4,5,4]])\n",
        "C=np.array([[5/3,2/3],\n",
        "            [2/3,5/3]])\n",
        "\n",
        "def punto_cruz(a,b):\n",
        "  return np.dot(a,b)\n",
        "def elevado_dos(a):\n",
        "  resultado=np.dot(a,a)\n",
        "  return resultado\n",
        "def elevado_tres(a):\n",
        "  tres=np.dot(np.dot(a, a),a)\n",
        "  return tres\n",
        "\n",
        "def elevado_cuatro(a):\n",
        "  cuatro=np.dot(np.dot(np.dot(a, a), a), a)\n",
        "  return cuatro\n",
        "#1)\n",
        "x=punto_cruz(A,B)\n",
        "print(x)\n",
        "\n",
        "\n",
        "#2)\n",
        "o= elevado_dos(A)\n",
        "r2=punto_cruz(o,B)\n",
        "print(r2)\n",
        "\n",
        "#3)\n",
        "tri=elevado_tres(C)\n",
        "r3=punto_cruz(tri,B)\n",
        "print(r3)\n",
        "\n",
        "#4)\n",
        "cuatro=elevado_cuatro(C)\n",
        "tr=elevado_tres(B)\n",
        "r4=punto_cruz(cuatro, tr)\n",
        "print(r4)"
      ],
      "metadata": {
        "id": "mAY6PEKaz2kX",
        "colab": {
          "base_uri": "https://localhost:8080/",
          "height": 495
        },
        "outputId": "d66cfabd-46a7-4f6e-c2ea-fbb28a6ff068"
      },
      "execution_count": 23,
      "outputs": [
        {
          "output_type": "stream",
          "name": "stdout",
          "text": [
            "[[ 8.1 10.2  8.3]\n",
            " [ 2.4  4.5  6.4]]\n",
            "[[ 5.61 10.02 13.63]\n",
            " [16.44 20.85 17.24]]\n",
            "[[30.25925926 42.96296296 43.96296296]\n",
            " [33.25925926 45.96296296 44.96296296]]\n"
          ]
        },
        {
          "output_type": "error",
          "ename": "ValueError",
          "evalue": "ignored",
          "traceback": [
            "\u001b[0;31m---------------------------------------------------------------------------\u001b[0m",
            "\u001b[0;31mValueError\u001b[0m                                Traceback (most recent call last)",
            "\u001b[0;32m<ipython-input-23-36af6eafa0eb>\u001b[0m in \u001b[0;36m<module>\u001b[0;34m\u001b[0m\n\u001b[1;32m     36\u001b[0m \u001b[0;31m#4)\u001b[0m\u001b[0;34m\u001b[0m\u001b[0;34m\u001b[0m\u001b[0;34m\u001b[0m\u001b[0m\n\u001b[1;32m     37\u001b[0m \u001b[0mcuatro\u001b[0m\u001b[0;34m=\u001b[0m\u001b[0melevado_cuatro\u001b[0m\u001b[0;34m(\u001b[0m\u001b[0mC\u001b[0m\u001b[0;34m)\u001b[0m\u001b[0;34m\u001b[0m\u001b[0;34m\u001b[0m\u001b[0m\n\u001b[0;32m---> 38\u001b[0;31m \u001b[0mtr\u001b[0m\u001b[0;34m=\u001b[0m\u001b[0melevado_tres\u001b[0m\u001b[0;34m(\u001b[0m\u001b[0mB\u001b[0m\u001b[0;34m)\u001b[0m\u001b[0;34m\u001b[0m\u001b[0;34m\u001b[0m\u001b[0m\n\u001b[0m\u001b[1;32m     39\u001b[0m \u001b[0mr4\u001b[0m\u001b[0;34m=\u001b[0m\u001b[0mpunto_cruz\u001b[0m\u001b[0;34m(\u001b[0m\u001b[0mcuatro\u001b[0m\u001b[0;34m,\u001b[0m \u001b[0mtr\u001b[0m\u001b[0;34m)\u001b[0m\u001b[0;34m\u001b[0m\u001b[0;34m\u001b[0m\u001b[0m\n\u001b[1;32m     40\u001b[0m \u001b[0mprint\u001b[0m\u001b[0;34m(\u001b[0m\u001b[0mr4\u001b[0m\u001b[0;34m)\u001b[0m\u001b[0;34m\u001b[0m\u001b[0;34m\u001b[0m\u001b[0m\n",
            "\u001b[0;32m<ipython-input-23-36af6eafa0eb>\u001b[0m in \u001b[0;36melevado_tres\u001b[0;34m(a)\u001b[0m\n\u001b[1;32m     13\u001b[0m   \u001b[0;32mreturn\u001b[0m \u001b[0mresultado\u001b[0m\u001b[0;34m\u001b[0m\u001b[0;34m\u001b[0m\u001b[0m\n\u001b[1;32m     14\u001b[0m \u001b[0;32mdef\u001b[0m \u001b[0melevado_tres\u001b[0m\u001b[0;34m(\u001b[0m\u001b[0ma\u001b[0m\u001b[0;34m)\u001b[0m\u001b[0;34m:\u001b[0m\u001b[0;34m\u001b[0m\u001b[0;34m\u001b[0m\u001b[0m\n\u001b[0;32m---> 15\u001b[0;31m   \u001b[0mtres\u001b[0m\u001b[0;34m=\u001b[0m\u001b[0mnp\u001b[0m\u001b[0;34m.\u001b[0m\u001b[0mdot\u001b[0m\u001b[0;34m(\u001b[0m\u001b[0mnp\u001b[0m\u001b[0;34m.\u001b[0m\u001b[0mdot\u001b[0m\u001b[0;34m(\u001b[0m\u001b[0ma\u001b[0m\u001b[0;34m,\u001b[0m \u001b[0ma\u001b[0m\u001b[0;34m)\u001b[0m\u001b[0;34m,\u001b[0m\u001b[0ma\u001b[0m\u001b[0;34m)\u001b[0m\u001b[0;34m\u001b[0m\u001b[0;34m\u001b[0m\u001b[0m\n\u001b[0m\u001b[1;32m     16\u001b[0m   \u001b[0;32mreturn\u001b[0m \u001b[0mtres\u001b[0m\u001b[0;34m\u001b[0m\u001b[0;34m\u001b[0m\u001b[0m\n\u001b[1;32m     17\u001b[0m \u001b[0;34m\u001b[0m\u001b[0m\n",
            "\u001b[0;32m<__array_function__ internals>\u001b[0m in \u001b[0;36mdot\u001b[0;34m(*args, **kwargs)\u001b[0m\n",
            "\u001b[0;31mValueError\u001b[0m: shapes (2,3) and (2,3) not aligned: 3 (dim 1) != 2 (dim 0)"
          ]
        }
      ]
    },
    {
      "cell_type": "markdown",
      "source": [
        "\n",
        "7. a. Cree una función que tenga como entrada un vector real cualquiera y el parámetro $L$. La función debe calcular la norma $L$ del vector, es decir, si $L=1$, calcula la norma $L1$, mientras que si $L=2$, calcula la $L2$. Además, debe graficar la función que se genera con la norma."
      ],
      "metadata": {
        "id": "dSJXG2ooJiOR"
      }
    },
    {
      "cell_type": "code",
      "source": [],
      "metadata": {
        "id": "v7M3VXsIL1nP"
      },
      "execution_count": null,
      "outputs": []
    },
    {
      "cell_type": "markdown",
      "source": [
        "b. Use su función anterior para calcular y graficar la norma tanto $L1$ como $L2$ del vector $[5,2]$."
      ],
      "metadata": {
        "id": "Tu0tGTjuWS9_"
      }
    },
    {
      "cell_type": "code",
      "source": [],
      "metadata": {
        "id": "Mxth8qbOWcpD"
      },
      "execution_count": null,
      "outputs": []
    },
    {
      "cell_type": "markdown",
      "source": [
        "# **Curvas de nivel, superficies, valores y vectores propios en formas cuadráticas**\n",
        "\n",
        "La optimización es una rama de las matemáticas que busca determinar de forma tanto cuantitativa como cualitativa la mejor manera de solucionar un problema. Cuando se optimiza de forma cuantitativa, el deseo es determinar máximos o mínimos de una función escalar de una o más variables bajo ciertas restricciones. Dicha función puede tomar cualquier forma siempre y cuando cumpla con algunas características como de diferenciación, continuidad, entre otras, sin embargo, una de las formas más trabajadas en el área de la inteligencia artificial es la forma cuadrática. Esta forma se plantea de la siguiente manera:\n",
        "\n",
        "\\begin{align*}\n",
        "f(X)=\\frac{1}{2}X^TQX + B^TX+C\n",
        "\\end{align*}\n",
        "\n",
        "Donde $Q$ es una matriz constante, $B$ un vector constante y $C$ una constante y $X$ es el vector de las variables. Notar que la función $f:\\mathbb{R^n}\\rightarrow\\mathbb{R}$, sin embargo, para poder graficar, se va a trabajar solamente con $f:\\mathbb{R^2}\\rightarrow\\mathbb{R}$. Los algoritmos de optimización tradicionales funcionan bien si la matriz $Q$ cumple ciertas restricciones, por lo que, primemero se trabajará con esta. La idea de esta parte es crear una función que cumpla ciertas característas para al final aplicarla con algunos ejemplos..\n"
      ],
      "metadata": {
        "id": "xMU5vxwfTr1B"
      }
    },
    {
      "cell_type": "markdown",
      "source": [
        "1. Genere una función que reciba como entrada una matriz cualquiera $Q$ e imprima un arreglo con lso coeficientes se la siguiente forma cuadrática:\n",
        "\n",
        "  \\begin{align*}\n",
        "   a_1x_1^2 + a_2x_2^2 + a_3x_1x_2 \n",
        "  \\end{align*}\n",
        "\n",
        "2. Agregue la función que permita obtener la forma simétrica de la matriz $Q$, llamada $Q_s$ en caso de que no lo sea, si es simétrica, indicar que ya es simétrica.\n",
        "\n",
        "3. Adicionar la función que permita decir si la matriz $Q$ es positiva definida, negativa definida, positiva semidefinida, negativa semidefinida, o ninguna de las anteriores.\n",
        "\n",
        "4. Si la matriz anterior no es ninguna, entonces el algoritmo debe encontrar la forma simétrica asociada.\n",
        "\n",
        "5. Ahora, el algoritmo debe encontrar la matriz $Λ$, que esl a matriz diagonal de valores propios, la matriz $V$ que es de los vectores propios normnalizados asociados a $Q_s$\n",
        "\n",
        "6. Recordando la teoría de álgebra lineal se sabe que $Q_s=VΛV^T$. Haga que el algoritmo reemplace esta expresión en laforma cuadrática y haga el cambio de variable $V^TX = Y$, para definir la forma cuadrática como $f(Y) = Y^TΛY$.\n",
        "\n",
        "7. El objetivo de lo anterior es darle una interpretación gráfica a la forma cuadrática. Para esto, el agoritmo debe graficar una curva de nivel con un valor cualquiera $c$ para la forma cuadrática con variables $X$ $(f(X) = X^TQX)$ y con variables $Y$ $(f(Y) = Y^T\\Lambda Y)$. Grafique también los valores propios con puntos y los vértices y covértices de la elipse que se genera con rectas en ambas gráficas (excepto en el caso de que $Q$ sea indefinida). También el algoritmo debe indicar los valores numéricos de estos vértices y covértices.\n",
        "\n",
        "8. Adicionalmente, debe graficar una superficie para cada caso, es decir, tanto para $f(X)$ como para $f(Y)$, donde se resalten cinco curvas de nivel. Además, si la $f$ es convexa (Q positiva semidefinida o definida), grafique también el punto mínimo.\n"
      ],
      "metadata": {
        "id": "QucAa2HaUF6G"
      }
    },
    {
      "cell_type": "code",
      "source": [
        "#\n",
        "A=np.array([[3,2],[4,4]])\n",
        "#print(A)\n",
        "x1, x2 = np.linspace(-3, 3, 100), np.linspace(-3, 3, 100)\n",
        "X1, X2 = np.meshgrid(x1, x2)\n",
        "Z=X1**2 * A[0, 0] + X2**2 * A[1, 1] + X1 * X2 * (A[0, 1]+A[1, 0])\n",
        "print(Z)\n",
        "\n",
        "# que permita saber si es simetrica\n",
        "\n",
        "\n"
      ],
      "metadata": {
        "id": "wNiDBlEMDSQA"
      },
      "execution_count": null,
      "outputs": []
    },
    {
      "cell_type": "code",
      "source": [],
      "metadata": {
        "id": "c1sPbeL_UFX4",
        "colab": {
          "base_uri": "https://localhost:8080/"
        },
        "outputId": "bb5828e8-a57a-46f5-de17-5ed88938fb42"
      },
      "execution_count": null,
      "outputs": [
        {
          "output_type": "stream",
          "name": "stdout",
          "text": [
            "positiva definida\n"
          ]
        }
      ]
    },
    {
      "cell_type": "code",
      "source": [
        "def ValPropio(lst:list):\n",
        "  mtr=np.array(lst)\n",
        "  a=np.linalg.eigvals(mtr)\n",
        "  return a\n",
        "def MatrisDefinida(matr:list):\n",
        "  valP=ValPropio(lst)\n",
        "  semiDef= False\n",
        "  positiva=False\n",
        "  negativa=False\n",
        "  texto2=\"definida\"\n",
        "  for val in valP:\n",
        "    contar=0\n",
        "    if val ==0:\n",
        "      semiDef=True\n",
        "      texto2=\"Semidefinida\"\n",
        "      contar=contar+1\n",
        "    elif val<0:\n",
        "      negativa=True\n",
        "      texto1=\"negativa\"\n",
        "    elif val>0:\n",
        "      positiva=True\n",
        "      texto1 =\"positiva\"\n",
        "  if positiva == True and negativa==True:\n",
        "    respuesta=\"indefinida\"\n",
        "  elif contar==len(valP):\n",
        "    respuesta=\"indefinida\"\n",
        "  else:\n",
        "    respuesta= str(texto1)+\" \"+str(texto2)\n",
        "  return respuesta\n",
        "\n",
        "print(MatrisDefinida(lst))\n"
      ],
      "metadata": {
        "colab": {
          "base_uri": "https://localhost:8080/"
        },
        "id": "VvxAM3zGObAe",
        "outputId": "c46729db-29bd-4d26-e976-a413bdf11ab3"
      },
      "execution_count": null,
      "outputs": [
        {
          "output_type": "stream",
          "name": "stdout",
          "text": [
            "positiva definida\n"
          ]
        }
      ]
    },
    {
      "cell_type": "markdown",
      "source": [
        "9. Pruebe su función creada con los siguientes ejemplos:\n",
        "\n",
        "\\begin{align*}\n",
        "  Q_1 = \\begin{pmatrix}\n",
        "3 & 2 \\\\\n",
        "1 & 2\n",
        "\\end{pmatrix}\\\\\n",
        " Q_2 = \\begin{pmatrix}\n",
        "-3 & 1 \\\\\n",
        "-2 & -1\n",
        "\\end{pmatrix}\\\\\n",
        " Q_3 = \\begin{pmatrix}\n",
        "0 & 2 \\\\\n",
        "1 & 0\n",
        "\\end{pmatrix}\\\\\n",
        "\\end{align*}"
      ],
      "metadata": {
        "id": "7unzc36mXk7v"
      }
    },
    {
      "cell_type": "code",
      "source": [
        "import inspect\n",
        "lines = inspect.getsource(ValPropio)\n",
        "print(lines)"
      ],
      "metadata": {
        "id": "_1m2AN5gbOrX",
        "colab": {
          "base_uri": "https://localhost:8080/"
        },
        "outputId": "d8aa031f-6789-4cb9-c1a2-8ae124a124fc"
      },
      "execution_count": null,
      "outputs": [
        {
          "output_type": "stream",
          "name": "stdout",
          "text": [
            "def ValPropio(lst:list):\n",
            "  mtr=np.array(lst)\n",
            "  a=np.linalg.eigvals(mtr)\n",
            "  return a\n",
            "\n"
          ]
        }
      ]
    }
  ]
}